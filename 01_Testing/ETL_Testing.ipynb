{
 "cells": [
  {
   "cell_type": "code",
   "execution_count": 3,
   "id": "5efd5f02-0db1-419c-bb11-cd824b73d0c3",
   "metadata": {},
   "outputs": [],
   "source": [
    "import pandas as pd\n",
    "import numpy as np\n",
    "import matplotlib as plt\n",
    "import requests\n",
    "from pprint import pprint"
   ]
  },
  {
   "cell_type": "code",
   "execution_count": 92,
   "id": "10d41ca1-2782-4886-8cac-c6062563ff4e",
   "metadata": {},
   "outputs": [
    {
     "ename": "AttributeError",
     "evalue": "'dict' object has no attribute 'append'",
     "output_type": "error",
     "traceback": [
      "\u001b[0;31m---------------------------------------------------------------------------\u001b[0m",
      "\u001b[0;31mAttributeError\u001b[0m                            Traceback (most recent call last)",
      "\u001b[0;32m/var/folders/5v/rb39v1b169d2n5b_qrzdkyy40000gn/T/ipykernel_64389/831884428.py\u001b[0m in \u001b[0;36m<module>\u001b[0;34m\u001b[0m\n\u001b[1;32m      8\u001b[0m     \u001b[0mjson\u001b[0m \u001b[0;34m=\u001b[0m \u001b[0mres\u001b[0m\u001b[0;34m.\u001b[0m\u001b[0mjson\u001b[0m\u001b[0;34m(\u001b[0m\u001b[0;34m)\u001b[0m\u001b[0;34m\u001b[0m\u001b[0;34m\u001b[0m\u001b[0m\n\u001b[1;32m      9\u001b[0m     \u001b[0mplayers\u001b[0m \u001b[0;34m=\u001b[0m \u001b[0mjson\u001b[0m\u001b[0;34m[\u001b[0m\u001b[0;34m\"data\"\u001b[0m\u001b[0;34m]\u001b[0m\u001b[0;34m\u001b[0m\u001b[0;34m\u001b[0m\u001b[0m\n\u001b[0;32m---> 10\u001b[0;31m     \u001b[0mplayers_df\u001b[0m\u001b[0;34m.\u001b[0m\u001b[0mappend\u001b[0m\u001b[0;34m(\u001b[0m\u001b[0mplayers\u001b[0m\u001b[0;34m)\u001b[0m\u001b[0;34m\u001b[0m\u001b[0;34m\u001b[0m\u001b[0m\n\u001b[0m",
      "\u001b[0;31mAttributeError\u001b[0m: 'dict' object has no attribute 'append'"
     ]
    }
   ],
   "source": [
    "#pages = range(1,151)\n",
    "players_df = {}\n",
    "x = 0\n",
    "pages = range(1,151)\n",
    "for page in pages: \n",
    "    url = f'https://www.balldontlie.io/api/v1/players?page=\"{pages}\"'\n",
    "    res = requests.get(url)\n",
    "    json = res.json()\n",
    "    players = json[\"data\"]\n",
    "    players_df.append(players)"
   ]
  },
  {
   "cell_type": "code",
   "execution_count": 77,
   "id": "d1761183-ff18-418a-b034-d09bb29beeb5",
   "metadata": {},
   "outputs": [
    {
     "data": {
      "text/plain": [
       "1"
      ]
     },
     "execution_count": 77,
     "metadata": {},
     "output_type": "execute_result"
    }
   ],
   "source": [
    "url = f'https://www.balldontlie.io/api/v1/players?page=\"{page}\"'\n",
    "res = requests.get(url)\n",
    "json = res.json()\n",
    "players = json[\"data\"]\n",
    "players[1][\"team\"]\n",
    "json[\"meta\"]['current_page']"
   ]
  },
  {
   "cell_type": "code",
   "execution_count": 44,
   "id": "f28ca891-3702-438c-8a8d-3e2cdbe72539",
   "metadata": {},
   "outputs": [
    {
     "name": "stdout",
     "output_type": "stream",
     "text": [
      "range(1, 3754)\n"
     ]
    }
   ],
   "source": [
    "print(player_ids)"
   ]
  },
  {
   "cell_type": "code",
   "execution_count": null,
   "id": "024c67b7-c1f5-44d0-b8f8-b28c410cac49",
   "metadata": {},
   "outputs": [],
   "source": []
  }
 ],
 "metadata": {
  "kernelspec": {
   "display_name": "PythonData",
   "language": "python",
   "name": "pythondata"
  },
  "language_info": {
   "codemirror_mode": {
    "name": "ipython",
    "version": 3
   },
   "file_extension": ".py",
   "mimetype": "text/x-python",
   "name": "python",
   "nbconvert_exporter": "python",
   "pygments_lexer": "ipython3",
   "version": "3.8.8"
  }
 },
 "nbformat": 4,
 "nbformat_minor": 5
}
